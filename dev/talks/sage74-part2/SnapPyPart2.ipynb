{
 "cells": [
  {
   "cell_type": "markdown",
   "metadata": {},
   "source": [
    "# SnapPy and SageMath are friends!"
   ]
  },
  {
   "cell_type": "markdown",
   "metadata": {},
   "source": [
    "* SnapPy always uses part of Sage, namely its interface to PARI, repackaged into a stand-alone module CyPari:\n",
    "\n",
    "    - Smith formal form for homology computations.\n",
    "\n",
    "    - Arbitrary precision arithmetic.\n",
    "\n",
    "    - Available on PyPI.\n",
    "    \n",
    "\n",
    "* When installed into Sage, via:\n",
    "```\n",
    "sage -pip install --no-use-wheel snappy\n",
    "```\n",
    "it gains additional functionality.  GUI still works:\n",
    "```\n",
    "sage -python -m snappy.app\n",
    "```\n",
    "\n",
    "\n",
    "* Installed in SageMathCloud by default.\n",
    "   "
   ]
  },
  {
   "cell_type": "markdown",
   "metadata": {},
   "source": [
    "## Sage-specific features."
   ]
  },
  {
   "cell_type": "markdown",
   "metadata": {},
   "source": [
    "Numeric return types are native Sage types."
   ]
  },
  {
   "cell_type": "code",
   "execution_count": 1,
   "metadata": {
    "collapsed": false
   },
   "outputs": [
    {
     "data": {
      "text/plain": [
       "sage.rings.real_mpfr.RealNumber"
      ]
     },
     "execution_count": 1,
     "metadata": {},
     "output_type": "execute_result"
    }
   ],
   "source": [
    "import snappy\n",
    "M = snappy.Manifold('m004')\n",
    "type(M.volume())"
   ]
  },
  {
   "cell_type": "code",
   "execution_count": 2,
   "metadata": {
    "collapsed": false
   },
   "outputs": [
    {
     "data": {
      "text/plain": [
       "2.02988321281930725004240510854904057188337861506059958403497821"
      ]
     },
     "execution_count": 2,
     "metadata": {},
     "output_type": "execute_result"
    }
   ],
   "source": [
    "MH = M.high_precision()\n",
    "MH.volume()"
   ]
  },
  {
   "cell_type": "code",
   "execution_count": 3,
   "metadata": {
    "collapsed": false
   },
   "outputs": [
    {
     "data": {
      "text/plain": [
       "212"
      ]
     },
     "execution_count": 3,
     "metadata": {},
     "output_type": "execute_result"
    }
   ],
   "source": [
    "MH.volume().prec() # quad-double"
   ]
  },
  {
   "cell_type": "code",
   "execution_count": 4,
   "metadata": {
    "collapsed": false
   },
   "outputs": [
    {
     "data": {
      "text/plain": [
       "0.500000000000000000000000000000000000000000000000000000000000000000000000000000000000000000000000000000000000000000000000000000000000000000000000000000000000000000000000000000000000000000000000000000000000000000000000000000000000000000000000000000000000000000000000000000000000000000000000000000000000 + 0.866025403784438646763723170752936183471402626905190314027903489725966508454400018540573093378624287837813070707703351514984972547499476239405827756047186824264046615951152791033987410050542337461632507656171633451661443325336127334460918985613523565830183930794009524993268689929694733825173753288025*I"
      ]
     },
     "execution_count": 4,
     "metadata": {},
     "output_type": "execute_result"
    }
   ],
   "source": [
    "M.tetrahedra_shapes('rect', bits_prec=1000)[0]"
   ]
  },
  {
   "cell_type": "markdown",
   "metadata": {},
   "source": [
    "The quad-double precision kernel allows computing very complicated Dirichlet domains.  \n",
    "\n"
   ]
  },
  {
   "cell_type": "code",
   "execution_count": 7,
   "metadata": {
    "collapsed": false,
    "scrolled": true
   },
   "outputs": [
    {
     "name": "stdout",
     "output_type": "stream",
     "text": [
      "15.2039621209048\n",
      "The Dirichlet construction failed.\n"
     ]
    }
   ],
   "source": [
    "B = snappy.Manifold('13a100')\n",
    "print(B.volume())\n",
    "try:\n",
    "    B.dirichlet_domain()\n",
    "except RuntimeError, error:\n",
    "    print(error)"
   ]
  },
  {
   "cell_type": "code",
   "execution_count": 8,
   "metadata": {
    "collapsed": false
   },
   "outputs": [
    {
     "data": {
      "text/plain": [
       "136 finite vertices, 2 ideal vertices; 210 edges; 74 faces"
      ]
     },
     "execution_count": 8,
     "metadata": {},
     "output_type": "execute_result"
    }
   ],
   "source": [
    "BH = B.high_precision()\n",
    "BH.dirichlet_domain()"
   ]
  },
  {
   "cell_type": "markdown",
   "metadata": {},
   "source": [
    "Because of local rigidity, the shapes are always algebraic numbers.  We can use LLL to recover their exact expressions, following Goodman, Neumann, et. al."
   ]
  },
  {
   "cell_type": "code",
   "execution_count": 9,
   "metadata": {
    "collapsed": false
   },
   "outputs": [
    {
     "data": {
      "text/plain": [
       "<SetOfAAN: [0.5 + 0.8660254037844386*I, 0.5 + 0.8660254037844386*I]>"
      ]
     },
     "execution_count": 9,
     "metadata": {},
     "output_type": "execute_result"
    }
   ],
   "source": [
    "TF = M.tetrahedra_field_gens()\n",
    "TF"
   ]
  },
  {
   "cell_type": "code",
   "execution_count": 10,
   "metadata": {
    "collapsed": false
   },
   "outputs": [
    {
     "data": {
      "text/plain": [
       "(Number Field in z with defining polynomial x^2 - x + 1,\n",
       " <ApproxAN: 0.5 + 0.866025403784*I>,\n",
       " [z, z])"
      ]
     },
     "execution_count": 10,
     "metadata": {},
     "output_type": "execute_result"
    }
   ],
   "source": [
    "TF.find_field(100, 10, True)"
   ]
  },
  {
   "cell_type": "markdown",
   "metadata": {},
   "source": [
    "Finite covers are of central interest in 3-manifold theory, e.g. Agol's recent solution to the Virtual Haken Conjecture. SnapPy has some basic ability here:"
   ]
  },
  {
   "cell_type": "code",
   "execution_count": 11,
   "metadata": {
    "collapsed": false
   },
   "outputs": [
    {
     "name": "stdout",
     "output_type": "stream",
     "text": [
      "CPU times: user 5.22 s, sys: 0 ns, total: 5.22 s\n",
      "Wall time: 5.22 s\n"
     ]
    }
   ],
   "source": [
    "%time covers = M.covers(9)"
   ]
  },
  {
   "cell_type": "markdown",
   "metadata": {},
   "source": [
    "However, in Sage one can use GAP or Magma to explore *much* bigger covers."
   ]
  },
  {
   "cell_type": "code",
   "execution_count": 12,
   "metadata": {
    "collapsed": false
   },
   "outputs": [
    {
     "name": "stdout",
     "output_type": "stream",
     "text": [
      "CPU times: user 340 ms, sys: 76 ms, total: 416 ms\n",
      "Wall time: 479 ms\n"
     ]
    }
   ],
   "source": [
    "from sage.all import gap, magma, PSL\n",
    "gap(1), magma(1) # one-time startup cost\n",
    "%time covers = M.covers(9, method='gap')"
   ]
  },
  {
   "cell_type": "code",
   "execution_count": 13,
   "metadata": {
    "collapsed": false
   },
   "outputs": [
    {
     "name": "stdout",
     "output_type": "stream",
     "text": [
      "CPU times: user 100 ms, sys: 40 ms, total: 140 ms\n",
      "Wall time: 402 ms\n"
     ]
    }
   ],
   "source": [
    "%time covers = M.covers(9, method='magma')"
   ]
  },
  {
   "cell_type": "code",
   "execution_count": 14,
   "metadata": {
    "collapsed": false
   },
   "outputs": [
    {
     "data": {
      "text/plain": [
       "[Z/21 + Z,\n",
       " Z + Z + Z,\n",
       " Z + Z + Z,\n",
       " Z + Z + Z,\n",
       " Z/21 + Z,\n",
       " Z/4 + Z/4 + Z,\n",
       " Z/3 + Z + Z + Z,\n",
       " Z/3 + Z + Z + Z,\n",
       " Z/3 + Z + Z + Z,\n",
       " Z/3 + Z + Z + Z,\n",
       " Z/76 + Z/76 + Z]"
      ]
     },
     "execution_count": 14,
     "metadata": {},
     "output_type": "execute_result"
    }
   ],
   "source": [
    "[C.homology() for C in covers]"
   ]
  },
  {
   "cell_type": "code",
   "execution_count": 15,
   "metadata": {
    "collapsed": false
   },
   "outputs": [
    {
     "data": {
      "text/plain": [
       "Generators:\n",
       "   a,b\n",
       "Relators:\n",
       "   aaabABBAb"
      ]
     },
     "execution_count": 15,
     "metadata": {},
     "output_type": "execute_result"
    }
   ],
   "source": [
    "G = M.fundamental_group(); G"
   ]
  },
  {
   "cell_type": "code",
   "execution_count": 16,
   "metadata": {
    "collapsed": false
   },
   "outputs": [
    {
     "data": {
      "text/plain": [
       "[ a^3*b*a^-1*b^-2*a^-1*b ]"
      ]
     },
     "execution_count": 16,
     "metadata": {},
     "output_type": "execute_result"
    }
   ],
   "source": [
    "G_gap = gap(G)\n",
    "G_gap.RelatorsOfFpGroup()"
   ]
  },
  {
   "cell_type": "code",
   "execution_count": 17,
   "metadata": {
    "collapsed": false
   },
   "outputs": [
    {
     "data": {
      "text/plain": [
       "167.999999999999"
      ]
     },
     "execution_count": 17,
     "metadata": {},
     "output_type": "execute_result"
    }
   ],
   "source": [
    "f = G_gap.GQuotients(PSL(2,7))[1]\n",
    "C = M.cover(f.Kernel())\n",
    "C.volume()/M.volume()"
   ]
  },
  {
   "cell_type": "code",
   "execution_count": 18,
   "metadata": {
    "collapsed": false
   },
   "outputs": [
    {
     "name": "stdout",
     "output_type": "stream",
     "text": [
      "576\n"
     ]
    },
    {
     "data": {
      "text/plain": [
       "Z/2 + Z/4 + Z/4 + Z/4 + Z/4 + Z/20 + Z + Z + Z + Z + Z + Z + Z + Z + Z + Z + Z + Z + Z + Z + Z + Z + Z + Z + Z + Z + Z + Z + Z + Z + Z + Z + Z + Z + Z + Z + Z + Z + Z + Z + Z + Z + Z + Z + Z + Z + Z + Z + Z + Z + Z + Z + Z + Z + Z + Z + Z + Z + Z + Z + Z + Z + Z + Z + Z + Z + Z + Z + Z + Z + Z + Z + Z + Z + Z + Z + Z + Z + Z + Z + Z + Z + Z + Z + Z + Z + Z + Z + Z + Z"
      ]
     },
     "execution_count": 18,
     "metadata": {},
     "output_type": "execute_result"
    }
   ],
   "source": [
    "G_mag = magma(G)\n",
    "H = G_mag.LowIndexSubgroups(12)[174]\n",
    "N = G_mag.Core(H)\n",
    "print(G_mag.Index(N))\n",
    "M.cover(N).homology()"
   ]
  },
  {
   "cell_type": "markdown",
   "metadata": {},
   "source": [
    "## Verified computation"
   ]
  },
  {
   "cell_type": "markdown",
   "metadata": {},
   "source": [
    "As pioneered by HIKMOT, SnapPy can use interval arithmetic to *prove* that a given manifold is hyperbolic and provide intervals where the exact shapes must lie.  Uses Sage's complex interval types and the Newton interval method."
   ]
  },
  {
   "cell_type": "code",
   "execution_count": null,
   "metadata": {
    "collapsed": false
   },
   "outputs": [],
   "source": [
    "E = snappy.Manifold('K14n1234')\n",
    "success, shapes = E.verify_hyperbolicity()\n",
    "success, shapes[:5]"
   ]
  },
  {
   "cell_type": "code",
   "execution_count": null,
   "metadata": {
    "collapsed": true
   },
   "outputs": [],
   "source": [
    "z0 = shapes[0]"
   ]
  },
  {
   "cell_type": "code",
   "execution_count": null,
   "metadata": {
    "collapsed": false
   },
   "outputs": [],
   "source": [
    "z0.diameter()"
   ]
  },
  {
   "cell_type": "code",
   "execution_count": null,
   "metadata": {
    "collapsed": false
   },
   "outputs": [],
   "source": [
    "better_shapes = E.verify_hyperbolicity(bits_prec=1000)[1]\n",
    "max(z.diameter() for z in better_shapes)"
   ]
  },
  {
   "cell_type": "markdown",
   "metadata": {},
   "source": [
    "By Mostow rigidity, a (finite-volume) hyperbolic structure is unique.  When the manifold has cusps, there is a canonical ideal cell decomposition associated to the hyperbolic structure.  SnapPy uses this to decide when two hyperbolic manifolds are homeomorphic.  "
   ]
  },
  {
   "cell_type": "code",
   "execution_count": null,
   "metadata": {
    "collapsed": false
   },
   "outputs": [],
   "source": [
    "F = snappy.Manifold('K14n1235')\n",
    "E.is_isometric_to(F)"
   ]
  },
  {
   "cell_type": "markdown",
   "metadata": {},
   "source": [
    "That was a numerical calculation and not rigorous because SnapPy might have miscalculated the canonical decompositions.  Let's fix that."
   ]
  },
  {
   "cell_type": "code",
   "execution_count": null,
   "metadata": {
    "collapsed": false
   },
   "outputs": [],
   "source": [
    "E.num_tetrahedra(), E.triangulation_isosig()"
   ]
  },
  {
   "cell_type": "code",
   "execution_count": null,
   "metadata": {
    "collapsed": false
   },
   "outputs": [],
   "source": [
    "E.isometry_signature()"
   ]
  },
  {
   "cell_type": "code",
   "execution_count": null,
   "metadata": {
    "collapsed": false
   },
   "outputs": [],
   "source": [
    "F.isometry_signature()"
   ]
  },
  {
   "cell_type": "markdown",
   "metadata": {},
   "source": [
    "## Link Diagrams: Spherogram\n",
    "\n",
    "Spherogram is a separately installable module, mostly pure-Python, which deals with knot and link diagrams.  Basic data structure is a planar diagram."
   ]
  },
  {
   "cell_type": "code",
   "execution_count": null,
   "metadata": {
    "collapsed": false
   },
   "outputs": [],
   "source": [
    "import spherogram\n",
    "K = spherogram.random_link(300, 1, consistent_twist_regions=True)\n",
    "K"
   ]
  },
  {
   "cell_type": "code",
   "execution_count": null,
   "metadata": {
    "collapsed": false
   },
   "outputs": [],
   "source": [
    "K.simplify('global')\n",
    "K"
   ]
  },
  {
   "cell_type": "code",
   "execution_count": null,
   "metadata": {
    "collapsed": false
   },
   "outputs": [],
   "source": [
    "K.exterior().volume()"
   ]
  },
  {
   "cell_type": "code",
   "execution_count": null,
   "metadata": {
    "collapsed": false
   },
   "outputs": [],
   "source": [
    "K.alexander_polynomial()  # 'local' algorithm of Bar-Natan"
   ]
  },
  {
   "cell_type": "code",
   "execution_count": null,
   "metadata": {
    "collapsed": true
   },
   "outputs": [],
   "source": [
    "L = spherogram.Link('L13n131')"
   ]
  },
  {
   "cell_type": "code",
   "execution_count": null,
   "metadata": {
    "collapsed": false
   },
   "outputs": [],
   "source": [
    "L.jones_polynomial()"
   ]
  },
  {
   "cell_type": "code",
   "execution_count": null,
   "metadata": {
    "collapsed": false
   },
   "outputs": [],
   "source": [
    "L.signature()"
   ]
  },
  {
   "cell_type": "code",
   "execution_count": null,
   "metadata": {
    "collapsed": false
   },
   "outputs": [],
   "source": [
    "L.seifert_matrix()"
   ]
  },
  {
   "cell_type": "code",
   "execution_count": null,
   "metadata": {
    "collapsed": false
   },
   "outputs": [],
   "source": [
    "D = L.morse_diagram()  # Uses Sage's interface to GLPK"
   ]
  },
  {
   "cell_type": "code",
   "execution_count": null,
   "metadata": {
    "collapsed": false
   },
   "outputs": [],
   "source": [
    "print(D.is_bridge())\n",
    "B = D.bridge()\n",
    "len(B.crossings)"
   ]
  },
  {
   "cell_type": "code",
   "execution_count": null,
   "metadata": {
    "collapsed": false
   },
   "outputs": [],
   "source": [
    "L.braid_word()"
   ]
  },
  {
   "cell_type": "markdown",
   "metadata": {},
   "source": [
    "## Spherogram 1.5 and SageMath 7.2 links and braids are friends"
   ]
  },
  {
   "cell_type": "code",
   "execution_count": null,
   "metadata": {
    "collapsed": false
   },
   "outputs": [],
   "source": [
    "L_sage = L.sage_link()"
   ]
  },
  {
   "cell_type": "code",
   "execution_count": null,
   "metadata": {
    "collapsed": false
   },
   "outputs": [],
   "source": [
    "L_sage"
   ]
  },
  {
   "cell_type": "code",
   "execution_count": null,
   "metadata": {
    "collapsed": true
   },
   "outputs": [],
   "source": [
    "L_sage_and_back = spherogram.Link(L_sage)"
   ]
  },
  {
   "cell_type": "code",
   "execution_count": null,
   "metadata": {
    "collapsed": false
   },
   "outputs": [],
   "source": [
    "L_sage_and_back.exterior().is_isometric_to(L.exterior())"
   ]
  },
  {
   "cell_type": "code",
   "execution_count": null,
   "metadata": {
    "collapsed": false
   },
   "outputs": [],
   "source": [
    "w = L.braid_word(as_sage_braid=True)\n",
    "w, w.parent()"
   ]
  },
  {
   "cell_type": "code",
   "execution_count": null,
   "metadata": {
    "collapsed": false
   },
   "outputs": [],
   "source": [
    "L_braid = spherogram.Link(braid_closure=w)\n",
    "L_braid"
   ]
  },
  {
   "cell_type": "code",
   "execution_count": null,
   "metadata": {
    "collapsed": false
   },
   "outputs": [],
   "source": [
    "L_braid.simplify('global')\n",
    "L"
   ]
  },
  {
   "cell_type": "markdown",
   "metadata": {},
   "source": [
    "# Other 3-manifold software."
   ]
  },
  {
   "cell_type": "markdown",
   "metadata": {},
   "source": [
    "Regina focuses on the purely topological side of things, especially normal surface theory.  Includes some support for higher-dimensional manifolds. Like SnapPy, it has a stand-alone GUI and also a Python interface. \n",
    "\n",
    "See http://unhyperbolic.org/sageRegina/ for how to install it painlessly into Sage."
   ]
  },
  {
   "cell_type": "markdown",
   "metadata": {},
   "source": [
    "# Possible projects for Sage Days 74"
   ]
  },
  {
   "cell_type": "markdown",
   "metadata": {},
   "source": [
    "### Make SnapPy (even) easier to install into SageMath\n",
    "\n",
    "   - Sage optional package?\n",
    "\n",
    "   - SageMath binaries for OS X < 10.11? "
   ]
  },
  {
   "cell_type": "markdown",
   "metadata": {},
   "source": [
    "### Sage's \"attach\" blocks Tkinter \n",
    "\n",
    "In Sage's IPython-based interpreter, the mechanism behind Sage's attach functionality blocks IPython's ability to integrate with Tk (and other GUI's) event loops. (See trac #15152).\n",
    "\n"
   ]
  },
  {
   "cell_type": "markdown",
   "metadata": {},
   "source": [
    "### Modernize CyPari\n",
    "\n",
    "CyPari is based on Sage circa 2012, and there have been improvements since, with more to come (Demeyer et. al.)."
   ]
  },
  {
   "cell_type": "markdown",
   "metadata": {},
   "source": [
    "### Modularization\n",
    "\n",
    "Modularize some parts of the SageMath kernel, for example interval arithmetic, for use in stand-alone SnapPy."
   ]
  },
  {
   "cell_type": "code",
   "execution_count": null,
   "metadata": {
    "collapsed": true
   },
   "outputs": [],
   "source": []
  }
 ],
 "metadata": {
  "kernelspec": {
   "display_name": "Python 2",
   "language": "python",
   "name": "python2"
  },
  "language_info": {
   "codemirror_mode": {
    "name": "ipython",
    "version": 2
   },
   "file_extension": ".py",
   "mimetype": "text/x-python",
   "name": "python",
   "nbconvert_exporter": "python",
   "pygments_lexer": "ipython2",
   "version": "2.7.10"
  }
 },
 "nbformat": 4,
 "nbformat_minor": 0
}
