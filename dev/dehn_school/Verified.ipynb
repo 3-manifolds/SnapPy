{
 "cells": [
  {
   "cell_type": "code",
   "execution_count": 1,
   "metadata": {},
   "outputs": [],
   "source": [
    "import snappy"
   ]
  },
  {
   "cell_type": "code",
   "execution_count": 8,
   "metadata": {},
   "outputs": [
    {
     "data": {
      "text/plain": [
       "K14n25482(0,0)"
      ]
     },
     "execution_count": 8,
     "metadata": {},
     "output_type": "execute_result"
    }
   ],
   "source": [
    "M = snappy.HTLinkExteriors.random()\n",
    "M"
   ]
  },
  {
   "cell_type": "code",
   "execution_count": 9,
   "metadata": {},
   "outputs": [
    {
     "data": {
      "text/plain": [
       "17.7318265948329"
      ]
     },
     "execution_count": 9,
     "metadata": {},
     "output_type": "execute_result"
    }
   ],
   "source": [
    "M.volume()"
   ]
  },
  {
   "cell_type": "code",
   "execution_count": 10,
   "metadata": {},
   "outputs": [
    {
     "data": {
      "text/plain": [
       "'all tetrahedra positively oriented'"
      ]
     },
     "execution_count": 10,
     "metadata": {},
     "output_type": "execute_result"
    }
   ],
   "source": [
    "M.solution_type()"
   ]
  },
  {
   "cell_type": "code",
   "execution_count": 11,
   "metadata": {},
   "outputs": [
    {
     "data": {
      "text/plain": [
       "(True,\n",
       " [0.457786203482? + 0.854746304058?*I,\n",
       "  0.802603933563? + 0.871862933272?*I,\n",
       "  0.676943707317? + 0.856391203899?*I,\n",
       "  0.089032548224? + 0.849346374071?*I,\n",
       "  0.564413668951? + 0.763968213959?*I,\n",
       "  0.568893233146? + 0.370554783078?*I,\n",
       "  0.5595592985259? + 0.347663718409?*I,\n",
       "  0.589530695198? + 1.035275670150?*I,\n",
       "  0.257776627109? + 0.797264294887?*I,\n",
       "  0.496675329422? + 1.150809251017?*I,\n",
       "  0.287281352673? + 0.701956029272?*I,\n",
       "  1.28356421797? + 1.230346007048?*I,\n",
       "  0.135718240562? + 0.553766345052?*I,\n",
       "  1.123180611038? + 0.956733305926?*I,\n",
       "  0.952311342609? + 0.816143428138?*I,\n",
       "  1.022626323473? + 0.683831374403?*I,\n",
       "  0.700708243287? + 0.754383495925?*I,\n",
       "  0.584645116313? + 0.729405286379?*I,\n",
       "  0.178065268342? + 0.566787327586?*I])"
      ]
     },
     "execution_count": 11,
     "metadata": {},
     "output_type": "execute_result"
    }
   ],
   "source": [
    "M.verify_hyperbolicity()"
   ]
  },
  {
   "cell_type": "code",
   "execution_count": 12,
   "metadata": {},
   "outputs": [
    {
     "data": {
      "text/plain": [
       "17.7318265948328797425411547844684727225705001685289201245534562087123395644232173528507557860238532853166450471569447856553449397601085021491730285593032685633888424004071521484128663506887207795352505266065880097523594208191246603480249329076793764292890914576495494494109701998992680595822592234?"
      ]
     },
     "execution_count": 12,
     "metadata": {},
     "output_type": "execute_result"
    }
   ],
   "source": [
    "M.volume(bits_prec=1000, verified=True)"
   ]
  },
  {
   "cell_type": "code",
   "execution_count": null,
   "metadata": {},
   "outputs": [],
   "source": []
  }
 ],
 "metadata": {
  "kernelspec": {
   "display_name": "SageMath 8.8",
   "language": "sage",
   "name": "sagemath"
  },
  "language_info": {
   "codemirror_mode": {
    "name": "ipython",
    "version": 2
   },
   "file_extension": ".py",
   "mimetype": "text/x-python",
   "name": "python",
   "nbconvert_exporter": "python",
   "pygments_lexer": "ipython2",
   "version": "2.7.15"
  }
 },
 "nbformat": 4,
 "nbformat_minor": 2
}
