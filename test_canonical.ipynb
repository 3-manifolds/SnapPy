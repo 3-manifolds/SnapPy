{
 "cells": [
  {
   "cell_type": "code",
   "execution_count": 7,
   "id": "2fbaf825",
   "metadata": {},
   "outputs": [],
   "source": [
    "import snappy\n",
    "from snappy.snap.t3mlite import Mcomplex\n",
    "\n",
    "def understand_triang(isometry_signature):\n",
    "    \"\"\"\n",
    "    >>> C = snappy.CubicalOrientableCuspedCensus[1]\n",
    "    >>> understand_triang(C.isometry_signature())\n",
    "    Cell 0: face sizes [4, 4, 4, 4, 4, 4]\n",
    "       vertex valences [3, 3, 3, 3, 3, 3, 3, 3]\n",
    "    \n",
    "    \"\"\"\n",
    "    T = Mcomplex(isometry_signature)\n",
    "    finite = [V for V in T.Vertices if V.link_genus() == 0]\n",
    "    ideal = [V for V in T.Vertices if V.link_genus() == 1]\n",
    "\n",
    "    ans = []\n",
    "    for i, V in enumerate(finite):\n",
    "        face_sizes, vertex_valences = [], []\n",
    "        for E in T.Edges:\n",
    "            for j in range(2):\n",
    "                X, Y = E.Vertices[j], E.Vertices[(j + 1) % 2]\n",
    "                if X == V:\n",
    "                    v = E.valence()\n",
    "                    if Y in finite:\n",
    "                        face_sizes.append(v)\n",
    "                    else:\n",
    "                        assert v % 2 == 0\n",
    "                        vertex_valences.append(v // 2)\n",
    "\n",
    "        assert sum(face_sizes) == len(V.Corners)\n",
    "        if i > 0:\n",
    "            print()\n",
    "        print(f'Cell {i}: face sizes {sorted(face_sizes)}')\n",
    "        print(f'   vertex valences {sorted(vertex_valences)}')"
   ]
  },
  {
   "cell_type": "code",
   "execution_count": 8,
   "id": "2d589bee",
   "metadata": {},
   "outputs": [
    {
     "name": "stdout",
     "output_type": "stream",
     "text": [
      "Cell 0: face sizes [3, 3, 3, 3, 4, 4]\n",
      "   vertex valences [3, 3, 3, 3, 4, 4]\n",
      "\n",
      "Cell 1: face sizes [3, 3, 4, 4, 4]\n",
      "   vertex valences [3, 3, 3, 3, 3, 3]\n",
      "\n",
      "Cell 2: face sizes [3, 3, 3, 3, 4, 4]\n",
      "   vertex valences [3, 3, 3, 3, 4, 4]\n",
      "\n",
      "Cell 3: face sizes [4, 4]\n",
      "   vertex valences [2, 2, 2, 2]\n",
      "\n",
      "Cell 4: face sizes [3, 3, 4, 4, 4]\n",
      "   vertex valences [3, 3, 3, 3, 3, 3]\n"
     ]
    }
   ],
   "source": [
    "understand_triang('QvLLvAvQLPPzwzAzMzLMPwLQzPQQQdghimomkoknrpsxwtuuxwFEAIGGHHFENKLONMOLPPNPoaqaqaaoafaqffqaoaaofqafaaqfoofafqaqqqafofo')"
   ]
  },
  {
   "cell_type": "code",
   "execution_count": null,
   "id": "08d42606",
   "metadata": {},
   "outputs": [],
   "source": [
    "def contain_flat_tetrahedra(M,flat_const = 1e-10):\n",
    "    for info in M.tetrahedra_shapes():\n",
    "        if imaginary(info['rect']) < flat_const:\n",
    "            assert imaginary(info['rect']) > 0\n",
    "            return True\n",
    "\n",
    "    return False "
   ]
  },
  {
   "cell_type": "markdown",
   "id": "a55fddcb",
   "metadata": {},
   "source": [
    "#### ````o9_43806```` might be the only one whose proto-canonical triangulation might contain flat tetrahedra"
   ]
  },
  {
   "cell_type": "code",
   "execution_count": null,
   "id": "8e67ed5e",
   "metadata": {},
   "outputs": [
    {
     "name": "stdout",
     "output_type": "stream",
     "text": [
      "o9_43806\n",
      "\u001b[K60911\r"
     ]
    }
   ],
   "source": [
    "import snappy\n",
    "count = 0\n",
    "\n",
    "for m in snappy.OrientableCuspedCensus[1000:]:\n",
    "    count += 1\n",
    "    print('\\033[K' + str(count), end = '\\r')\n",
    "    m.canonize()\n",
    "\n",
    "    if contain_flat_tetrahedra(m):\n",
    "        print(m.name())"
   ]
  },
  {
   "cell_type": "markdown",
   "id": "e7f0872f",
   "metadata": {},
   "source": [
    "#### Test canonize"
   ]
  },
  {
   "cell_type": "code",
   "execution_count": 1,
   "id": "5cb99efe",
   "metadata": {},
   "outputs": [
    {
     "data": {
      "text/plain": [
       "'QvLLvAvQLPPzwzAzMzLMPwLQzPQQQdghimomkoknrpsxwtuuxwFEAIGGHHFENKLONMOLPPNPoaqaqaaoafaqffqaoaaofqafaaqfoofafqaqqqafofo'"
      ]
     },
     "execution_count": 1,
     "metadata": {},
     "output_type": "execute_result"
    }
   ],
   "source": [
    "import snappy, snappy_10_tets\n",
    "m = snappy.Manifold('o10_133300')\n",
    "m.isometry_signature()"
   ]
  },
  {
   "cell_type": "code",
   "execution_count": 2,
   "id": "d95bba38",
   "metadata": {},
   "outputs": [
    {
     "data": {
      "text/plain": [
       "[{'rect': -1.61803398874989 + 2.05817102727149*I, 'log': 0.962423650119205 + 2.23703575928741*I, 'volume': 0.4971246973, 'accuracies': (10, 10, 10, 10)},\n",
       " {'rect': -0.618033988749896 + 1.27201964951407*I, 'log': 0.346573590279974 + 2.02307477394609*I, 'volume': 0.6966392389, 'accuracies': (10, 11, 11, 11)},\n",
       " {'rect': 0.500000000000000 + 0.393075688878712*I, 'log': -0.452541268030143 + 0.666239432492515*I, 'volume': 0.82023882387, 'accuracies': (11, 11, 11, 11)},\n",
       " {'rect': -1.61803398874989 + 1.27201964951407*I, 'log': 0.721817737589406 + 2.47535322109728*I, 'volume': 0.4073468298, 'accuracies': (11, 10, 11, 11)},\n",
       " {'rect': 0.236067977499787 + 0.971736543513293*I, 'log': 8.88000000000000e-16 + 1.33247886498503*I, 'volume': 0.9831590660, 'accuracies': (10, 10, 10, 10)},\n",
       " {'rect': 1.00000000000000 + 0.786151377757424*I, 'log': 0.240605912529802 + 0.666239432492515*I, 'volume': 0.9016989449, 'accuracies': (10, 11, 11, 11)},\n",
       " {'rect': -1.52300000000000e-15 + 0.786151377757424*I, 'log': -0.240605912529801 + 1.57079632679490*I, 'volume': 0.9016989449, 'accuracies': (10, 11, 10, 10)},\n",
       " {'rect': -0.999999999999994 + 4.11634205454298*I, 'log': 1.44363547517881 + 1.80911378860476*I, 'volume': 0.5309464147, 'accuracies': (10, 10, 11, 11)},\n",
       " {'rect': 0.0557280900008410 + 0.229395880489819*I, 'log': -1.44363547517881 + 1.33247886498503*I, 'volume': 0.57858481830, 'accuracies': (12, 11, 10, 11)},\n",
       " {'rect': -0.618033988749896 + 1.27201964951407*I, 'log': 0.346573590279973 + 2.02307477394609*I, 'volume': 0.69663923895, 'accuracies': (11, 11, 11, 11)},\n",
       " {'rect': 2.23000000000000e-16 + 0.786151377757422*I, 'log': -0.240605912529803 + 1.57079632679490*I, 'volume': 0.90169894491, 'accuracies': (26, 11, 11, 10)},\n",
       " {'rect': -0.618033988749892 + 1.27201964951407*I, 'log': 0.346573590279971 + 2.02307477394609*I, 'volume': 0.6966392389, 'accuracies': (10, 10, 10, 11)}]"
      ]
     },
     "execution_count": 2,
     "metadata": {},
     "output_type": "execute_result"
    }
   ],
   "source": [
    "m.canonize()\n",
    "m.tetrahedra_shapes()"
   ]
  },
  {
   "cell_type": "code",
   "execution_count": 3,
   "id": "f4ccb849",
   "metadata": {},
   "outputs": [
    {
     "data": {
      "text/plain": [
       "'4vLvvQvvwwzLLwvvzMPQAvzLAMQAQAPQLQPQQQcdijhmptsAwHyBGNvMAHNMRKQSHFKGVRXVVJMQYZOUWR1U03U21XYZ0323oaaaaaaaaoaoaaaoaaaaaffffoofoooaooofoaafoqoafqaoaoofoffof'"
      ]
     },
     "execution_count": 3,
     "metadata": {},
     "output_type": "execute_result"
    }
   ],
   "source": [
    "import snappy\n",
    "m = snappy.Manifold('o9_43806')\n",
    "m.isometry_signature()"
   ]
  }
 ],
 "metadata": {
  "kernelspec": {
   "display_name": "SageMath 10.4",
   "language": "sage",
   "name": "SageMath-10.4"
  },
  "language_info": {
   "codemirror_mode": {
    "name": "ipython",
    "version": 3
   },
   "file_extension": ".py",
   "mimetype": "text/x-python",
   "name": "python",
   "nbconvert_exporter": "python",
   "pygments_lexer": "ipython3",
   "version": "3.12.4"
  }
 },
 "nbformat": 4,
 "nbformat_minor": 5
}
